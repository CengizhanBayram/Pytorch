{
 "cells": [
  {
   "cell_type": "code",
   "execution_count": 7,
   "id": "a12d0c5b",
   "metadata": {},
   "outputs": [],
   "source": [
    "import torch \n",
    "from torch import nn\n",
    "from torch import optim\n",
    "from collections import Counter\n",
    "from itertools import product #grid search için"
   ]
  },
  {
   "cell_type": "code",
   "execution_count": 8,
   "id": "9bfd08a8",
   "metadata": {},
   "outputs": [
    {
     "name": "stdout",
     "output_type": "stream",
     "text": [
      "Yaklaşık 2 aydır bu akıllı süpürgeyi kullanıyorum ve hayatımdaki etkisini tarif etmek gerçekten zor İlk başta açıkçası biraz tereddütle yaklaştım “ Gerçekten işe yarıyor mu ” “ Tüm köşelere giriyor mu ” gibi kafamda birçok soru vardı Ancak kullandıkça tüm şüphelerim yerini memnuniyete bıraktı Kurulum süreci oldukça basitti Uygulamasını indirip Wi-Fi ’ ye bağlamak sadece birkaç dakikamı aldı Uygulama arayüzü kullanıcı dostu haritalama özelliği ise adeta bir sihir gibi çalışıyor İlk çalıştırmada evin krokisini çıkardı ve odaları tek tek tanımladı Daha sonra bu harita üzerinden belirli odaları temizlemesini veya halı olmayan bölgeleri atlamasını kolayca ayarlayabildim Performans olarak beni en çok etkileyen özelliği ise emiş gücü oldu Parke halı ve fayans zeminler arasında geçişleri son derece akıllıca yapıyor Halılar üzerinde Turbo moduna geçerek derinlemesine temizlik sağlıyor Evde bir kedi beslediğim için en çok dert yandığım şey tüylerdi Ancak bu süpürge mobilya altları da dahil olmak üzere her yerden tüyleri öyle güzel topluyor ki şaşırmamak elde değil Bir başka artı özellik ise sessiz çalışması Önceki kullandığım elektrikli süpürgeye kıyasla neredeyse fark edilmeyecek düzeyde bir sesi var Bu sayede temizlik yaparken TV izlemeye ya da telefonla konuşmaya rahatlıkla devam edebiliyorum Üstelik zamanlama özelliği sayesinde işteyken süpürgeyi uzaktan başlatabiliyor eve geldiğimde tertemiz bir ortamla karşılaşıyorum Batarya ömrü oldukça tatmin edici Yaklaşık 100 metrekarelik evimi tek seferde rahatlıkla temizliyor Şarjı bitmeye yaklaştığında kendiliğinden şarj ünitesine dönüyor ve ardından temizliğe kaldığı yerden devam ediyor Bu kadar zeki bir cihazla ilk kez karşılaşıyorum diyebilirim Eksik yönü yok mu Elbette her cihazda olduğu gibi bazı minik noktalar var Örneğin çok koyu renkli halılarda bazen “ engeli ” algılayıp geri çekilebiliyor Ancak bu oldukça nadir yaşanıyor ve genel deneyimi etkilemiyor Genel olarak söyleyebilirim ki bu süpürge bir temizlik robotundan çok daha fazlası Özellikle yoğun çalışan çocuklu ya da evcil hayvan besleyen biriyseniz kesinlikle hayatınızı kolaylaştıracak bir yardımcı İlk başta fiyatı yüksek gibi görünse de sağladığı zaman enerji ve temizlik kalitesi göz önünde bulundurulduğunda fazlasıyla karşılığını veriyor Kesinlikle tavsiye ederim\n"
     ]
    }
   ],
   "source": [
    "text = \"\"\"Yaklaşık 2 aydır bu akıllı süpürgeyi kullanıyorum ve hayatımdaki etkisini tarif etmek gerçekten zor. İlk başta açıkçası biraz tereddütle yaklaştım. “Gerçekten işe yarıyor mu?”, “Tüm köşelere giriyor mu?” gibi kafamda birçok soru vardı. Ancak kullandıkça tüm şüphelerim yerini memnuniyete bıraktı.\n",
    "\n",
    "Kurulum süreci oldukça basitti. Uygulamasını indirip Wi-Fi’ye bağlamak sadece birkaç dakikamı aldı. Uygulama arayüzü kullanıcı dostu; haritalama özelliği ise adeta bir sihir gibi çalışıyor. İlk çalıştırmada evin krokisini çıkardı ve odaları tek tek tanımladı. Daha sonra bu harita üzerinden belirli odaları temizlemesini veya halı olmayan bölgeleri atlamasını kolayca ayarlayabildim.\n",
    "\n",
    "Performans olarak beni en çok etkileyen özelliği ise emiş gücü oldu. Parke, halı ve fayans zeminler arasında geçişleri son derece akıllıca yapıyor. Halılar üzerinde Turbo moduna geçerek derinlemesine temizlik sağlıyor. Evde bir kedi beslediğim için en çok dert yandığım şey tüylerdi. Ancak bu süpürge, mobilya altları da dahil olmak üzere her yerden tüyleri öyle güzel topluyor ki şaşırmamak elde değil.\n",
    "\n",
    "Bir başka artı özellik ise sessiz çalışması. Önceki kullandığım elektrikli süpürgeye kıyasla neredeyse fark edilmeyecek düzeyde bir sesi var. Bu sayede temizlik yaparken TV izlemeye ya da telefonla konuşmaya rahatlıkla devam edebiliyorum. Üstelik zamanlama özelliği sayesinde, işteyken süpürgeyi uzaktan başlatabiliyor, eve geldiğimde tertemiz bir ortamla karşılaşıyorum.\n",
    "\n",
    "Batarya ömrü oldukça tatmin edici. Yaklaşık 100 metrekarelik evimi tek seferde rahatlıkla temizliyor. Şarjı bitmeye yaklaştığında kendiliğinden şarj ünitesine dönüyor ve ardından temizliğe kaldığı yerden devam ediyor. Bu kadar zeki bir cihazla ilk kez karşılaşıyorum diyebilirim.\n",
    "\n",
    "Eksik yönü yok mu? Elbette her cihazda olduğu gibi bazı minik noktalar var. Örneğin, çok koyu renkli halılarda bazen “engeli” algılayıp geri çekilebiliyor. Ancak bu oldukça nadir yaşanıyor ve genel deneyimi etkilemiyor.\n",
    "\n",
    "Genel olarak söyleyebilirim ki, bu süpürge bir temizlik robotundan çok daha fazlası. Özellikle yoğun çalışan, çocuklu ya da evcil hayvan besleyen biriyseniz, kesinlikle hayatınızı kolaylaştıracak bir yardımcı. İlk başta fiyatı yüksek gibi görünse de sağladığı zaman, enerji ve temizlik kalitesi göz önünde bulundurulduğunda fazlasıyla karşılığını veriyor.\n",
    "\n",
    "Kesinlikle tavsiye ederim! \"\"\"\n",
    "\n",
    "import nltk\n",
    "import string\n",
    "\n",
    "\n",
    "def remove_punctuation(text):\n",
    "    # Metni kelimelere ayır\n",
    "    tokens = nltk.word_tokenize(text)\n",
    "    # Noktalama işaretlerini filtrele\n",
    "    words = [word for word in tokens if word not in string.punctuation]\n",
    "    # Temizlenmiş kelimeleri tekrar birleştir\n",
    "    return ' '.join(words)\n",
    "\n",
    "# Örnek kullanım\n",
    "\n",
    "temiz_metin = remove_punctuation(text)\n",
    "print(temiz_metin)\n"
   ]
  },
  {
   "cell_type": "code",
   "execution_count": 10,
   "id": "bd125839",
   "metadata": {},
   "outputs": [
    {
     "data": {
      "text/plain": [
       "Counter({' ': 319,\n",
       "         'a': 218,\n",
       "         'e': 210,\n",
       "         'i': 174,\n",
       "         'l': 149,\n",
       "         'r': 129,\n",
       "         'k': 106,\n",
       "         'n': 91,\n",
       "         'ı': 84,\n",
       "         'y': 82,\n",
       "         'd': 82,\n",
       "         'm': 71,\n",
       "         't': 68,\n",
       "         'o': 57,\n",
       "         's': 55,\n",
       "         'u': 48,\n",
       "         'b': 46,\n",
       "         'z': 38,\n",
       "         'ü': 33,\n",
       "         'ş': 30,\n",
       "         'g': 25,\n",
       "         'ç': 24,\n",
       "         'ğ': 21,\n",
       "         'v': 20,\n",
       "         'h': 19,\n",
       "         'c': 19,\n",
       "         'ö': 14,\n",
       "         'p': 11,\n",
       "         'f': 10,\n",
       "         'B': 4,\n",
       "         'İ': 3,\n",
       "         '“': 3,\n",
       "         '”': 3,\n",
       "         'T': 3,\n",
       "         'A': 3,\n",
       "         'E': 3,\n",
       "         'Ö': 3,\n",
       "         'j': 3,\n",
       "         'Y': 2,\n",
       "         'G': 2,\n",
       "         'K': 2,\n",
       "         'U': 2,\n",
       "         'P': 2,\n",
       "         '0': 2,\n",
       "         '2': 1,\n",
       "         'W': 1,\n",
       "         '-': 1,\n",
       "         'F': 1,\n",
       "         '’': 1,\n",
       "         'D': 1,\n",
       "         'H': 1,\n",
       "         'V': 1,\n",
       "         'Ü': 1,\n",
       "         '1': 1,\n",
       "         'Ş': 1})"
      ]
     },
     "execution_count": 10,
     "metadata": {},
     "output_type": "execute_result"
    }
   ],
   "source": [
    "words_count = Counter(temiz_metin)\n",
    "words_count"
   ]
  },
  {
   "cell_type": "code",
   "execution_count": null,
   "id": "c94eba11",
   "metadata": {},
   "outputs": [],
   "source": []
  }
 ],
 "metadata": {
  "kernelspec": {
   "display_name": "Python 3",
   "language": "python",
   "name": "python3"
  },
  "language_info": {
   "codemirror_mode": {
    "name": "ipython",
    "version": 3
   },
   "file_extension": ".py",
   "mimetype": "text/x-python",
   "name": "python",
   "nbconvert_exporter": "python",
   "pygments_lexer": "ipython3",
   "version": "3.10.8"
  }
 },
 "nbformat": 4,
 "nbformat_minor": 5
}
